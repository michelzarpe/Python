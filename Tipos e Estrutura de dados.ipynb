{
 "cells": [
  {
   "cell_type": "code",
   "execution_count": 2,
   "metadata": {},
   "outputs": [
    {
     "data": {
      "text/plain": [
       "int"
      ]
     },
     "execution_count": 2,
     "metadata": {},
     "output_type": "execute_result"
    }
   ],
   "source": [
    "type(6)"
   ]
  },
  {
   "cell_type": "code",
   "execution_count": 3,
   "metadata": {},
   "outputs": [
    {
     "data": {
      "text/plain": [
       "float"
      ]
     },
     "execution_count": 3,
     "metadata": {},
     "output_type": "execute_result"
    }
   ],
   "source": [
    "type(8.0)"
   ]
  },
  {
   "cell_type": "code",
   "execution_count": 4,
   "metadata": {},
   "outputs": [
    {
     "data": {
      "text/plain": [
       "str"
      ]
     },
     "execution_count": 4,
     "metadata": {},
     "output_type": "execute_result"
    }
   ],
   "source": [
    "type(\"Testando o type\")"
   ]
  },
  {
   "cell_type": "code",
   "execution_count": 5,
   "metadata": {},
   "outputs": [
    {
     "data": {
      "text/plain": [
       "1.5"
      ]
     },
     "execution_count": 5,
     "metadata": {},
     "output_type": "execute_result"
    }
   ],
   "source": [
    "3/2"
   ]
  },
  {
   "cell_type": "code",
   "execution_count": 6,
   "metadata": {},
   "outputs": [
    {
     "data": {
      "text/plain": [
       "float"
      ]
     },
     "execution_count": 6,
     "metadata": {},
     "output_type": "execute_result"
    }
   ],
   "source": [
    "type(2/3)"
   ]
  },
  {
   "cell_type": "code",
   "execution_count": 7,
   "metadata": {},
   "outputs": [
    {
     "data": {
      "text/plain": [
       "int"
      ]
     },
     "execution_count": 7,
     "metadata": {},
     "output_type": "execute_result"
    }
   ],
   "source": [
    "type(2//3)"
   ]
  },
  {
   "cell_type": "code",
   "execution_count": 8,
   "metadata": {},
   "outputs": [
    {
     "data": {
      "text/plain": [
       "9.0"
      ]
     },
     "execution_count": 8,
     "metadata": {},
     "output_type": "execute_result"
    }
   ],
   "source": [
    "#conversao de valores\n",
    "float(9)"
   ]
  },
  {
   "cell_type": "code",
   "execution_count": 9,
   "metadata": {},
   "outputs": [
    {
     "data": {
      "text/plain": [
       "4"
      ]
     },
     "execution_count": 9,
     "metadata": {},
     "output_type": "execute_result"
    }
   ],
   "source": [
    "int(4.3)"
   ]
  },
  {
   "cell_type": "code",
   "execution_count": 10,
   "metadata": {},
   "outputs": [
    {
     "data": {
      "text/plain": [
       "'0xe'"
      ]
     },
     "execution_count": 10,
     "metadata": {},
     "output_type": "execute_result"
    }
   ],
   "source": [
    "hex(14)"
   ]
  },
  {
   "cell_type": "code",
   "execution_count": 11,
   "metadata": {},
   "outputs": [
    {
     "data": {
      "text/plain": [
       "'0b1110'"
      ]
     },
     "execution_count": 11,
     "metadata": {},
     "output_type": "execute_result"
    }
   ],
   "source": [
    "bin(14)"
   ]
  },
  {
   "cell_type": "code",
   "execution_count": 12,
   "metadata": {},
   "outputs": [
    {
     "data": {
      "text/plain": [
       "8.9"
      ]
     },
     "execution_count": 12,
     "metadata": {},
     "output_type": "execute_result"
    }
   ],
   "source": [
    "#retorna o valor absoluto\n",
    "abs(-8.9)"
   ]
  },
  {
   "cell_type": "code",
   "execution_count": 13,
   "metadata": {},
   "outputs": [
    {
     "data": {
      "text/plain": [
       "3.145"
      ]
     },
     "execution_count": 13,
     "metadata": {},
     "output_type": "execute_result"
    }
   ],
   "source": [
    "#arredonda um numero, passando a quantidade de casas decimais\n",
    "round(3.1452,3)"
   ]
  },
  {
   "cell_type": "code",
   "execution_count": 14,
   "metadata": {},
   "outputs": [
    {
     "data": {
      "text/plain": [
       "8"
      ]
     },
     "execution_count": 14,
     "metadata": {},
     "output_type": "execute_result"
    }
   ],
   "source": [
    "# potencia pode ser feito com a funcao pow ou **\n",
    "pow(2,3)"
   ]
  },
  {
   "cell_type": "code",
   "execution_count": 15,
   "metadata": {
    "collapsed": true
   },
   "outputs": [],
   "source": [
    "#declaracao multiplas\n",
    "nota1, nota2, nota3 = 10, 9, 8"
   ]
  },
  {
   "cell_type": "code",
   "execution_count": 16,
   "metadata": {},
   "outputs": [
    {
     "name": "stdout",
     "output_type": "stream",
     "text": [
      "9\n"
     ]
    }
   ],
   "source": [
    "print(nota2)"
   ]
  },
  {
   "cell_type": "code",
   "execution_count": 17,
   "metadata": {
    "collapsed": true
   },
   "outputs": [],
   "source": [
    "nota1=nota2=nota3=7"
   ]
  },
  {
   "cell_type": "code",
   "execution_count": 18,
   "metadata": {},
   "outputs": [
    {
     "name": "stdout",
     "output_type": "stream",
     "text": [
      "7\n"
     ]
    }
   ],
   "source": [
    "print(nota2)"
   ]
  },
  {
   "cell_type": "code",
   "execution_count": 19,
   "metadata": {
    "collapsed": true
   },
   "outputs": [],
   "source": [
    "palavra  = \"Testando tudo que eu posso\";"
   ]
  },
  {
   "cell_type": "code",
   "execution_count": 20,
   "metadata": {},
   "outputs": [
    {
     "data": {
      "text/plain": [
       "'tando tudo que eu posso'"
      ]
     },
     "execution_count": 20,
     "metadata": {},
     "output_type": "execute_result"
    }
   ],
   "source": [
    "palavra[3:]"
   ]
  },
  {
   "cell_type": "code",
   "execution_count": 21,
   "metadata": {},
   "outputs": [
    {
     "data": {
      "text/plain": [
       "'o'"
      ]
     },
     "execution_count": 21,
     "metadata": {},
     "output_type": "execute_result"
    }
   ],
   "source": [
    "palavra[-1]"
   ]
  },
  {
   "cell_type": "code",
   "execution_count": 22,
   "metadata": {},
   "outputs": [
    {
     "data": {
      "text/plain": [
       "'ossop ue euq odut odnatseT'"
      ]
     },
     "execution_count": 22,
     "metadata": {},
     "output_type": "execute_result"
    }
   ],
   "source": [
    "palavra[::-1]"
   ]
  },
  {
   "cell_type": "code",
   "execution_count": 23,
   "metadata": {},
   "outputs": [
    {
     "data": {
      "text/plain": [
       "'Testando tudo que eu posso'"
      ]
     },
     "execution_count": 23,
     "metadata": {},
     "output_type": "execute_result"
    }
   ],
   "source": [
    "palavra[::1]"
   ]
  },
  {
   "cell_type": "code",
   "execution_count": 24,
   "metadata": {},
   "outputs": [
    {
     "data": {
      "text/plain": [
       "'Tsad uoqee os'"
      ]
     },
     "execution_count": 24,
     "metadata": {},
     "output_type": "execute_result"
    }
   ],
   "source": [
    "palavra[::2]"
   ]
  },
  {
   "cell_type": "code",
   "execution_count": 25,
   "metadata": {
    "collapsed": true
   },
   "outputs": [],
   "source": [
    "palavra = \"Testando a vida\""
   ]
  },
  {
   "cell_type": "code",
   "execution_count": 26,
   "metadata": {},
   "outputs": [
    {
     "data": {
      "text/plain": [
       "'Testando a vidaTestando a vidaTestando a vida'"
      ]
     },
     "execution_count": 26,
     "metadata": {},
     "output_type": "execute_result"
    }
   ],
   "source": [
    "palavra *3"
   ]
  },
  {
   "cell_type": "code",
   "execution_count": 27,
   "metadata": {},
   "outputs": [
    {
     "data": {
      "text/plain": [
       "list"
      ]
     },
     "execution_count": 27,
     "metadata": {},
     "output_type": "execute_result"
    }
   ],
   "source": [
    "type(palavra.split())"
   ]
  },
  {
   "cell_type": "code",
   "execution_count": 28,
   "metadata": {
    "collapsed": true
   },
   "outputs": [],
   "source": [
    "palavra = \"testando a vida\""
   ]
  },
  {
   "cell_type": "code",
   "execution_count": 29,
   "metadata": {},
   "outputs": [
    {
     "data": {
      "text/plain": [
       "'Testando a vida'"
      ]
     },
     "execution_count": 29,
     "metadata": {},
     "output_type": "execute_result"
    }
   ],
   "source": [
    "palavra.capitalize()"
   ]
  },
  {
   "cell_type": "code",
   "execution_count": 30,
   "metadata": {},
   "outputs": [
    {
     "data": {
      "text/plain": [
       "3"
      ]
     },
     "execution_count": 30,
     "metadata": {},
     "output_type": "execute_result"
    }
   ],
   "source": [
    "palavra.count(\"a\")"
   ]
  },
  {
   "cell_type": "code",
   "execution_count": 31,
   "metadata": {},
   "outputs": [
    {
     "data": {
      "text/plain": [
       "11"
      ]
     },
     "execution_count": 31,
     "metadata": {},
     "output_type": "execute_result"
    }
   ],
   "source": [
    "palavra.find(\"v\")"
   ]
  },
  {
   "cell_type": "code",
   "execution_count": 32,
   "metadata": {
    "collapsed": true
   },
   "outputs": [],
   "source": [
    "listas = [\"Pao\",\"Feijao\",\"Arroz\"]"
   ]
  },
  {
   "cell_type": "code",
   "execution_count": 33,
   "metadata": {},
   "outputs": [
    {
     "data": {
      "text/plain": [
       "['Pao', 'Feijao', 'Arroz']"
      ]
     },
     "execution_count": 33,
     "metadata": {},
     "output_type": "execute_result"
    }
   ],
   "source": [
    "listas"
   ]
  },
  {
   "cell_type": "code",
   "execution_count": 34,
   "metadata": {},
   "outputs": [
    {
     "data": {
      "text/plain": [
       "['Arroz', 'Feijao', 'Pao']"
      ]
     },
     "execution_count": 34,
     "metadata": {},
     "output_type": "execute_result"
    }
   ],
   "source": [
    "listas[::-1]"
   ]
  },
  {
   "cell_type": "code",
   "execution_count": 35,
   "metadata": {
    "collapsed": true
   },
   "outputs": [],
   "source": [
    "listas = [10,[\"7\",\"8\"],\"Arroz\"]"
   ]
  },
  {
   "cell_type": "code",
   "execution_count": 36,
   "metadata": {},
   "outputs": [
    {
     "name": "stdout",
     "output_type": "stream",
     "text": [
      "[10, ['7', '8'], 'Arroz']\n"
     ]
    }
   ],
   "source": [
    "print(listas)"
   ]
  },
  {
   "cell_type": "code",
   "execution_count": 37,
   "metadata": {},
   "outputs": [
    {
     "name": "stdout",
     "output_type": "stream",
     "text": [
      "['7', '8']\n"
     ]
    }
   ],
   "source": [
    "print(listas[1][:])"
   ]
  },
  {
   "cell_type": "code",
   "execution_count": 38,
   "metadata": {},
   "outputs": [
    {
     "name": "stdout",
     "output_type": "stream",
     "text": [
      "7\n"
     ]
    }
   ],
   "source": [
    "print(listas[1][0])"
   ]
  },
  {
   "cell_type": "code",
   "execution_count": 39,
   "metadata": {
    "collapsed": true
   },
   "outputs": [],
   "source": [
    "del listas[0]"
   ]
  },
  {
   "cell_type": "code",
   "execution_count": 40,
   "metadata": {},
   "outputs": [
    {
     "data": {
      "text/plain": [
       "[['7', '8'], 'Arroz']"
      ]
     },
     "execution_count": 40,
     "metadata": {},
     "output_type": "execute_result"
    }
   ],
   "source": [
    "listas"
   ]
  },
  {
   "cell_type": "code",
   "execution_count": 41,
   "metadata": {
    "collapsed": true
   },
   "outputs": [],
   "source": [
    "listas=[[2,1,4],[5,7,6],[0.1,0.2,0.5]]"
   ]
  },
  {
   "cell_type": "code",
   "execution_count": 42,
   "metadata": {},
   "outputs": [
    {
     "name": "stdout",
     "output_type": "stream",
     "text": [
      "1.0\n"
     ]
    }
   ],
   "source": [
    "print(listas[2][0]*10)"
   ]
  },
  {
   "cell_type": "code",
   "execution_count": 43,
   "metadata": {
    "collapsed": true
   },
   "outputs": [],
   "source": [
    "lista_c1 =[1,2,3]"
   ]
  },
  {
   "cell_type": "code",
   "execution_count": 44,
   "metadata": {
    "collapsed": true
   },
   "outputs": [],
   "source": [
    "lista_c2 =[5,8,77]"
   ]
  },
  {
   "cell_type": "code",
   "execution_count": 45,
   "metadata": {},
   "outputs": [
    {
     "name": "stdout",
     "output_type": "stream",
     "text": [
      "[1, 2, 3, 5, 8, 77]\n"
     ]
    }
   ],
   "source": [
    "print(lista_c1+lista_c2)"
   ]
  },
  {
   "cell_type": "code",
   "execution_count": 46,
   "metadata": {},
   "outputs": [
    {
     "name": "stdout",
     "output_type": "stream",
     "text": [
      "False\n"
     ]
    }
   ],
   "source": [
    "print(77 in lista_c1)"
   ]
  },
  {
   "cell_type": "code",
   "execution_count": 47,
   "metadata": {},
   "outputs": [
    {
     "name": "stdout",
     "output_type": "stream",
     "text": [
      "True\n"
     ]
    }
   ],
   "source": [
    "print(77 in lista_c2)"
   ]
  },
  {
   "cell_type": "code",
   "execution_count": 48,
   "metadata": {},
   "outputs": [
    {
     "name": "stdout",
     "output_type": "stream",
     "text": [
      "3\n"
     ]
    }
   ],
   "source": [
    "print(len(listas))"
   ]
  },
  {
   "cell_type": "code",
   "execution_count": 49,
   "metadata": {},
   "outputs": [
    {
     "name": "stdout",
     "output_type": "stream",
     "text": [
      "[5, 7, 6]\n"
     ]
    }
   ],
   "source": [
    "print(max(listas))"
   ]
  },
  {
   "cell_type": "code",
   "execution_count": 50,
   "metadata": {},
   "outputs": [
    {
     "name": "stdout",
     "output_type": "stream",
     "text": [
      "[0.1, 0.2, 0.5]\n"
     ]
    }
   ],
   "source": [
    "print(min(listas))"
   ]
  },
  {
   "cell_type": "code",
   "execution_count": 51,
   "metadata": {},
   "outputs": [
    {
     "name": "stdout",
     "output_type": "stream",
     "text": [
      "1\n"
     ]
    }
   ],
   "source": [
    "print(min(listas[0]))"
   ]
  },
  {
   "cell_type": "code",
   "execution_count": 52,
   "metadata": {
    "collapsed": true
   },
   "outputs": [],
   "source": [
    "listas.append([2,1.5])"
   ]
  },
  {
   "cell_type": "code",
   "execution_count": 53,
   "metadata": {},
   "outputs": [
    {
     "data": {
      "text/plain": [
       "[[2, 1, 4], [5, 7, 6], [0.1, 0.2, 0.5], [2, 1.5]]"
      ]
     },
     "execution_count": 53,
     "metadata": {},
     "output_type": "execute_result"
    }
   ],
   "source": [
    "listas"
   ]
  },
  {
   "cell_type": "code",
   "execution_count": 54,
   "metadata": {
    "collapsed": true
   },
   "outputs": [],
   "source": [
    "lista1 =[];"
   ]
  },
  {
   "cell_type": "code",
   "execution_count": 55,
   "metadata": {
    "collapsed": true
   },
   "outputs": [],
   "source": [
    "for item in listas[2]:\n",
    "    lista1.append(item)"
   ]
  },
  {
   "cell_type": "code",
   "execution_count": 56,
   "metadata": {},
   "outputs": [
    {
     "data": {
      "text/plain": [
       "[0.1, 0.2, 0.5]"
      ]
     },
     "execution_count": 56,
     "metadata": {},
     "output_type": "execute_result"
    }
   ],
   "source": [
    "lista1"
   ]
  },
  {
   "cell_type": "code",
   "execution_count": 57,
   "metadata": {
    "collapsed": true
   },
   "outputs": [],
   "source": [
    "lista1.extend([8883,2123,3142341,12341])"
   ]
  },
  {
   "cell_type": "code",
   "execution_count": 58,
   "metadata": {},
   "outputs": [
    {
     "data": {
      "text/plain": [
       "[0.1, 0.2, 0.5, 8883, 2123, 3142341, 12341]"
      ]
     },
     "execution_count": 58,
     "metadata": {},
     "output_type": "execute_result"
    }
   ],
   "source": [
    "lista1"
   ]
  },
  {
   "cell_type": "code",
   "execution_count": 59,
   "metadata": {},
   "outputs": [
    {
     "data": {
      "text/plain": [
       "3"
      ]
     },
     "execution_count": 59,
     "metadata": {},
     "output_type": "execute_result"
    }
   ],
   "source": [
    "lista1.index(8883)"
   ]
  },
  {
   "cell_type": "code",
   "execution_count": 60,
   "metadata": {
    "collapsed": true
   },
   "outputs": [],
   "source": [
    "lista1.insert(3,9090909)"
   ]
  },
  {
   "cell_type": "code",
   "execution_count": 61,
   "metadata": {},
   "outputs": [
    {
     "data": {
      "text/plain": [
       "[0.1, 0.2, 0.5, 9090909, 8883, 2123, 3142341, 12341]"
      ]
     },
     "execution_count": 61,
     "metadata": {},
     "output_type": "execute_result"
    }
   ],
   "source": [
    "lista1"
   ]
  },
  {
   "cell_type": "code",
   "execution_count": 62,
   "metadata": {
    "collapsed": true
   },
   "outputs": [],
   "source": [
    "lista1.sort()"
   ]
  },
  {
   "cell_type": "code",
   "execution_count": 63,
   "metadata": {},
   "outputs": [
    {
     "data": {
      "text/plain": [
       "[0.1, 0.2, 0.5, 2123, 8883, 12341, 3142341, 9090909]"
      ]
     },
     "execution_count": 63,
     "metadata": {},
     "output_type": "execute_result"
    }
   ],
   "source": [
    "lista1"
   ]
  },
  {
   "cell_type": "code",
   "execution_count": 64,
   "metadata": {
    "collapsed": true
   },
   "outputs": [],
   "source": [
    "estudante_lst = [\"Michel\",13,\"Giovana\",14]"
   ]
  },
  {
   "cell_type": "code",
   "execution_count": 65,
   "metadata": {},
   "outputs": [
    {
     "data": {
      "text/plain": [
       "['Michel', 13, 'Giovana', 14]"
      ]
     },
     "execution_count": 65,
     "metadata": {},
     "output_type": "execute_result"
    }
   ],
   "source": [
    "estudante_lst"
   ]
  },
  {
   "cell_type": "code",
   "execution_count": 66,
   "metadata": {
    "collapsed": true
   },
   "outputs": [],
   "source": [
    "estudante_dicionario = {\"Michel\":13,\"Giovana\":14}"
   ]
  },
  {
   "cell_type": "code",
   "execution_count": 67,
   "metadata": {},
   "outputs": [
    {
     "data": {
      "text/plain": [
       "{'Giovana': 14, 'Michel': 13}"
      ]
     },
     "execution_count": 67,
     "metadata": {},
     "output_type": "execute_result"
    }
   ],
   "source": [
    "estudante_dicionario"
   ]
  },
  {
   "cell_type": "code",
   "execution_count": 68,
   "metadata": {},
   "outputs": [
    {
     "data": {
      "text/plain": [
       "13"
      ]
     },
     "execution_count": 68,
     "metadata": {},
     "output_type": "execute_result"
    }
   ],
   "source": [
    "estudante_dicionario[\"Michel\"]"
   ]
  },
  {
   "cell_type": "code",
   "execution_count": 69,
   "metadata": {
    "collapsed": true
   },
   "outputs": [],
   "source": [
    "estudante_dicionario[\"Michel\"] = 23"
   ]
  },
  {
   "cell_type": "code",
   "execution_count": 70,
   "metadata": {},
   "outputs": [
    {
     "data": {
      "text/plain": [
       "23"
      ]
     },
     "execution_count": 70,
     "metadata": {},
     "output_type": "execute_result"
    }
   ],
   "source": [
    "estudante_dicionario[\"Michel\"]"
   ]
  },
  {
   "cell_type": "code",
   "execution_count": 71,
   "metadata": {
    "collapsed": true
   },
   "outputs": [],
   "source": [
    "estudante_dicionario.clear() #limpa os elementos"
   ]
  },
  {
   "cell_type": "code",
   "execution_count": 72,
   "metadata": {},
   "outputs": [
    {
     "data": {
      "text/plain": [
       "dict_keys([])"
      ]
     },
     "execution_count": 72,
     "metadata": {},
     "output_type": "execute_result"
    }
   ],
   "source": [
    "estudante_dicionario.keys()"
   ]
  },
  {
   "cell_type": "code",
   "execution_count": 73,
   "metadata": {
    "collapsed": true
   },
   "outputs": [],
   "source": [
    "del estudante_dicionario #deleta o objeto estudante_dicionario"
   ]
  },
  {
   "cell_type": "code",
   "execution_count": 74,
   "metadata": {},
   "outputs": [
    {
     "ename": "NameError",
     "evalue": "name 'estudante_dicionario' is not defined",
     "output_type": "error",
     "traceback": [
      "\u001b[0;31m---------------------------------------------------------------------------\u001b[0m",
      "\u001b[0;31mNameError\u001b[0m                                 Traceback (most recent call last)",
      "\u001b[0;32m<ipython-input-74-2334d0552740>\u001b[0m in \u001b[0;36m<module>\u001b[0;34m()\u001b[0m\n\u001b[0;32m----> 1\u001b[0;31m \u001b[0mlen\u001b[0m\u001b[0;34m(\u001b[0m\u001b[0mestudante_dicionario\u001b[0m\u001b[0;34m)\u001b[0m\u001b[0;34m\u001b[0m\u001b[0m\n\u001b[0m",
      "\u001b[0;31mNameError\u001b[0m: name 'estudante_dicionario' is not defined"
     ]
    }
   ],
   "source": [
    "len(estudante_dicionario)"
   ]
  },
  {
   "cell_type": "code",
   "execution_count": 75,
   "metadata": {},
   "outputs": [
    {
     "ename": "NameError",
     "evalue": "name 'estudante_dicionario' is not defined",
     "output_type": "error",
     "traceback": [
      "\u001b[0;31m---------------------------------------------------------------------------\u001b[0m",
      "\u001b[0;31mNameError\u001b[0m                                 Traceback (most recent call last)",
      "\u001b[0;32m<ipython-input-75-91c8a7162a18>\u001b[0m in \u001b[0;36m<module>\u001b[0;34m()\u001b[0m\n\u001b[0;32m----> 1\u001b[0;31m \u001b[0mestudante_dicionario\u001b[0m\u001b[0;34m.\u001b[0m\u001b[0mvalues\u001b[0m\u001b[0;34m(\u001b[0m\u001b[0;34m)\u001b[0m\u001b[0;34m\u001b[0m\u001b[0m\n\u001b[0m",
      "\u001b[0;31mNameError\u001b[0m: name 'estudante_dicionario' is not defined"
     ]
    }
   ],
   "source": [
    "estudante_dicionario.values()"
   ]
  },
  {
   "cell_type": "code",
   "execution_count": 76,
   "metadata": {},
   "outputs": [
    {
     "ename": "NameError",
     "evalue": "name 'estudante_dicionario' is not defined",
     "output_type": "error",
     "traceback": [
      "\u001b[0;31m---------------------------------------------------------------------------\u001b[0m",
      "\u001b[0;31mNameError\u001b[0m                                 Traceback (most recent call last)",
      "\u001b[0;32m<ipython-input-76-32c23fde91af>\u001b[0m in \u001b[0;36m<module>\u001b[0;34m()\u001b[0m\n\u001b[0;32m----> 1\u001b[0;31m \u001b[0mestudante_dicionario\u001b[0m\u001b[0;34m.\u001b[0m\u001b[0mitems\u001b[0m\u001b[0;34m(\u001b[0m\u001b[0;34m)\u001b[0m\u001b[0;34m\u001b[0m\u001b[0m\n\u001b[0m",
      "\u001b[0;31mNameError\u001b[0m: name 'estudante_dicionario' is not defined"
     ]
    }
   ],
   "source": [
    "estudante_dicionario.items()"
   ]
  },
  {
   "cell_type": "code",
   "execution_count": 77,
   "metadata": {
    "collapsed": true
   },
   "outputs": [],
   "source": [
    "estudante_Amigos = {\"Jardel\":66,\"Alessandra\":99}"
   ]
  },
  {
   "cell_type": "code",
   "execution_count": 78,
   "metadata": {},
   "outputs": [
    {
     "ename": "NameError",
     "evalue": "name 'estudante_dicionario' is not defined",
     "output_type": "error",
     "traceback": [
      "\u001b[0;31m---------------------------------------------------------------------------\u001b[0m",
      "\u001b[0;31mNameError\u001b[0m                                 Traceback (most recent call last)",
      "\u001b[0;32m<ipython-input-78-856c5af5f289>\u001b[0m in \u001b[0;36m<module>\u001b[0;34m()\u001b[0m\n\u001b[0;32m----> 1\u001b[0;31m \u001b[0mestudante_dicionario\u001b[0m\u001b[0;34m.\u001b[0m\u001b[0mupdate\u001b[0m\u001b[0;34m(\u001b[0m\u001b[0mestudante_Amigos\u001b[0m\u001b[0;34m)\u001b[0m\u001b[0;34m\u001b[0m\u001b[0m\n\u001b[0m",
      "\u001b[0;31mNameError\u001b[0m: name 'estudante_dicionario' is not defined"
     ]
    }
   ],
   "source": [
    "estudante_dicionario.update(estudante_Amigos)"
   ]
  },
  {
   "cell_type": "code",
   "execution_count": null,
   "metadata": {
    "collapsed": true
   },
   "outputs": [],
   "source": [
    "estudante_dicionario"
   ]
  },
  {
   "cell_type": "code",
   "execution_count": 79,
   "metadata": {
    "collapsed": true
   },
   "outputs": [],
   "source": [
    "dicionario = {}"
   ]
  },
  {
   "cell_type": "code",
   "execution_count": 80,
   "metadata": {
    "collapsed": true
   },
   "outputs": [],
   "source": [
    "dicionario[\"Michel\"] = 2"
   ]
  },
  {
   "cell_type": "code",
   "execution_count": 81,
   "metadata": {},
   "outputs": [
    {
     "data": {
      "text/plain": [
       "{'Michel': 2}"
      ]
     },
     "execution_count": 81,
     "metadata": {},
     "output_type": "execute_result"
    }
   ],
   "source": [
    "dicionario"
   ]
  },
  {
   "cell_type": "code",
   "execution_count": 82,
   "metadata": {
    "collapsed": true
   },
   "outputs": [],
   "source": [
    "dicionario[10]=4"
   ]
  },
  {
   "cell_type": "code",
   "execution_count": 83,
   "metadata": {},
   "outputs": [
    {
     "data": {
      "text/plain": [
       "{'Michel': 2, 10: 4}"
      ]
     },
     "execution_count": 83,
     "metadata": {},
     "output_type": "execute_result"
    }
   ],
   "source": [
    "dicionario"
   ]
  },
  {
   "cell_type": "code",
   "execution_count": 84,
   "metadata": {},
   "outputs": [
    {
     "data": {
      "text/plain": [
       "4"
      ]
     },
     "execution_count": 84,
     "metadata": {},
     "output_type": "execute_result"
    }
   ],
   "source": [
    "dicionario[10]"
   ]
  },
  {
   "cell_type": "code",
   "execution_count": 85,
   "metadata": {
    "collapsed": true
   },
   "outputs": [],
   "source": [
    "#Dicionario com Listas\n",
    "dicionario_Cm_listas = {\"Chv1\":[1,2,3,\"Michel\"],\"Chv2\":[1,2,3,4,5,6]}"
   ]
  },
  {
   "cell_type": "code",
   "execution_count": 86,
   "metadata": {},
   "outputs": [
    {
     "data": {
      "text/plain": [
       "[1, 2, 3, 'Michel']"
      ]
     },
     "execution_count": 86,
     "metadata": {},
     "output_type": "execute_result"
    }
   ],
   "source": [
    "dicionario_Cm_listas[\"Chv1\"]"
   ]
  },
  {
   "cell_type": "code",
   "execution_count": 87,
   "metadata": {},
   "outputs": [
    {
     "data": {
      "text/plain": [
       "'MICHEL'"
      ]
     },
     "execution_count": 87,
     "metadata": {},
     "output_type": "execute_result"
    }
   ],
   "source": [
    "dicionario_Cm_listas[\"Chv1\"][3].upper()"
   ]
  },
  {
   "cell_type": "code",
   "execution_count": 88,
   "metadata": {
    "collapsed": true
   },
   "outputs": [],
   "source": [
    "#dicionarios alinhados\n",
    "dicionario_alinhados ={\"Chave1\":{\"Chave1_Sub\":12,\"Chave2_sub\":{\"Chave1_sub1\":123412}}}"
   ]
  },
  {
   "cell_type": "code",
   "execution_count": 89,
   "metadata": {},
   "outputs": [
    {
     "data": {
      "text/plain": [
       "{'Chave1_sub1': 123412}"
      ]
     },
     "execution_count": 89,
     "metadata": {},
     "output_type": "execute_result"
    }
   ],
   "source": [
    "dicionario_alinhados[\"Chave1\"][\"Chave2_sub\"]"
   ]
  },
  {
   "cell_type": "code",
   "execution_count": 90,
   "metadata": {},
   "outputs": [
    {
     "data": {
      "text/plain": [
       "123412"
      ]
     },
     "execution_count": 90,
     "metadata": {},
     "output_type": "execute_result"
    }
   ],
   "source": [
    "dicionario_alinhados[\"Chave1\"][\"Chave2_sub\"][\"Chave1_sub1\"]"
   ]
  },
  {
   "cell_type": "code",
   "execution_count": 91,
   "metadata": {
    "collapsed": true
   },
   "outputs": [],
   "source": [
    "#tuplas"
   ]
  },
  {
   "cell_type": "code",
   "execution_count": 92,
   "metadata": {
    "collapsed": true
   },
   "outputs": [],
   "source": [
    "tupla=(\"Matematica\",12,\"Teste\")"
   ]
  },
  {
   "cell_type": "code",
   "execution_count": 93,
   "metadata": {},
   "outputs": [
    {
     "data": {
      "text/plain": [
       "tuple"
      ]
     },
     "execution_count": 93,
     "metadata": {},
     "output_type": "execute_result"
    }
   ],
   "source": [
    "type(tupla)"
   ]
  },
  {
   "cell_type": "code",
   "execution_count": 94,
   "metadata": {},
   "outputs": [
    {
     "data": {
      "text/plain": [
       "('Matematica', 12, 'Teste')"
      ]
     },
     "execution_count": 94,
     "metadata": {},
     "output_type": "execute_result"
    }
   ],
   "source": [
    "tupla"
   ]
  },
  {
   "cell_type": "code",
   "execution_count": 95,
   "metadata": {},
   "outputs": [
    {
     "data": {
      "text/plain": [
       "(12, 'Teste')"
      ]
     },
     "execution_count": 95,
     "metadata": {},
     "output_type": "execute_result"
    }
   ],
   "source": [
    "tupla[1:]"
   ]
  },
  {
   "cell_type": "code",
   "execution_count": 96,
   "metadata": {},
   "outputs": [
    {
     "data": {
      "text/plain": [
       "2"
      ]
     },
     "execution_count": 96,
     "metadata": {},
     "output_type": "execute_result"
    }
   ],
   "source": [
    "tupla.index(\"Teste\")"
   ]
  },
  {
   "cell_type": "code",
   "execution_count": 97,
   "metadata": {
    "collapsed": true
   },
   "outputs": [],
   "source": [
    "#recriando tupla"
   ]
  },
  {
   "cell_type": "code",
   "execution_count": 98,
   "metadata": {
    "collapsed": true
   },
   "outputs": [],
   "source": [
    "lista_t2 = list(tupla)"
   ]
  },
  {
   "cell_type": "code",
   "execution_count": 99,
   "metadata": {},
   "outputs": [
    {
     "data": {
      "text/plain": [
       "['Matematica', 12, 'Teste']"
      ]
     },
     "execution_count": 99,
     "metadata": {},
     "output_type": "execute_result"
    }
   ],
   "source": [
    "lista_t2"
   ]
  },
  {
   "cell_type": "code",
   "execution_count": 100,
   "metadata": {
    "collapsed": true
   },
   "outputs": [],
   "source": [
    "lista_t2.append(\"Final\")"
   ]
  },
  {
   "cell_type": "code",
   "execution_count": 101,
   "metadata": {
    "collapsed": true
   },
   "outputs": [],
   "source": [
    "tupla = tuple(lista_t2)"
   ]
  },
  {
   "cell_type": "code",
   "execution_count": 102,
   "metadata": {},
   "outputs": [
    {
     "data": {
      "text/plain": [
       "('Matematica', 12, 'Teste', 'Final')"
      ]
     },
     "execution_count": 102,
     "metadata": {},
     "output_type": "execute_result"
    }
   ],
   "source": [
    "tupla"
   ]
  },
  {
   "cell_type": "code",
   "execution_count": 108,
   "metadata": {
    "collapsed": true
   },
   "outputs": [],
   "source": [
    "#Arquivos e Dataset\n",
    "arquivo = open(\"doc.txt\",\"r\")"
   ]
  },
  {
   "cell_type": "code",
   "execution_count": 109,
   "metadata": {},
   "outputs": [
    {
     "name": "stdout",
     "output_type": "stream",
     "text": [
      "Python super lindo, neh!\n",
      "\n"
     ]
    }
   ],
   "source": [
    "print(arquivo.read()) #lendo arquivo"
   ]
  },
  {
   "cell_type": "code",
   "execution_count": 110,
   "metadata": {},
   "outputs": [
    {
     "name": "stdout",
     "output_type": "stream",
     "text": [
      "25\n"
     ]
    }
   ],
   "source": [
    "print(arquivo.tell()) #conta quantidade de carecters "
   ]
  },
  {
   "cell_type": "code",
   "execution_count": 111,
   "metadata": {},
   "outputs": [
    {
     "name": "stdout",
     "output_type": "stream",
     "text": [
      "0\n"
     ]
    }
   ],
   "source": [
    "print(arquivo.seek(0,0)) #retona para o inicio do arquivo"
   ]
  },
  {
   "cell_type": "code",
   "execution_count": 112,
   "metadata": {},
   "outputs": [
    {
     "name": "stdout",
     "output_type": "stream",
     "text": [
      "Python sup\n"
     ]
    }
   ],
   "source": [
    "print(arquivo.read(10))"
   ]
  },
  {
   "cell_type": "code",
   "execution_count": 113,
   "metadata": {},
   "outputs": [
    {
     "name": "stdout",
     "output_type": "stream",
     "text": [
      "er lindo, neh!\n",
      "\n"
     ]
    }
   ],
   "source": [
    "print(arquivo.read()) #lendo arquivo"
   ]
  },
  {
   "cell_type": "code",
   "execution_count": 114,
   "metadata": {
    "collapsed": true
   },
   "outputs": [],
   "source": [
    "arquivo.close()"
   ]
  },
  {
   "cell_type": "code",
   "execution_count": 116,
   "metadata": {
    "collapsed": true
   },
   "outputs": [],
   "source": [
    "#Gravando no arquivo, funciona apenas para ecrita e nao leitura#\n",
    "arquivo2 = open(\"doc.txt\",\"w\")"
   ]
  },
  {
   "cell_type": "code",
   "execution_count": 117,
   "metadata": {},
   "outputs": [
    {
     "data": {
      "text/plain": [
       "15"
      ]
     },
     "execution_count": 117,
     "metadata": {},
     "output_type": "execute_result"
    }
   ],
   "source": [
    "arquivo2.write(\"Graveiiiiiiiiii\")"
   ]
  },
  {
   "cell_type": "code",
   "execution_count": 118,
   "metadata": {
    "collapsed": true
   },
   "outputs": [],
   "source": [
    "arquivo2.close()"
   ]
  },
  {
   "cell_type": "code",
   "execution_count": 119,
   "metadata": {
    "collapsed": true
   },
   "outputs": [],
   "source": [
    "arquivo2 =open(\"doc.txt\",\"r\")"
   ]
  },
  {
   "cell_type": "code",
   "execution_count": 121,
   "metadata": {},
   "outputs": [
    {
     "name": "stdout",
     "output_type": "stream",
     "text": [
      "Graveiiiiiiiiii\n"
     ]
    }
   ],
   "source": [
    "print(arquivo2.read())"
   ]
  },
  {
   "cell_type": "code",
   "execution_count": 122,
   "metadata": {
    "collapsed": true
   },
   "outputs": [],
   "source": [
    "arquivo2.close()"
   ]
  },
  {
   "cell_type": "code",
   "execution_count": 123,
   "metadata": {
    "collapsed": true
   },
   "outputs": [],
   "source": [
    "arquivo2 =open(\"doc.txt\",\"a\") #acrescentar informacao#"
   ]
  },
  {
   "cell_type": "code",
   "execution_count": 124,
   "metadata": {},
   "outputs": [
    {
     "data": {
      "text/plain": [
       "13"
      ]
     },
     "execution_count": 124,
     "metadata": {},
     "output_type": "execute_result"
    }
   ],
   "source": [
    "arquivo2.write(\" mais uma vez\")"
   ]
  },
  {
   "cell_type": "code",
   "execution_count": 125,
   "metadata": {
    "collapsed": true
   },
   "outputs": [],
   "source": [
    "arquivo2.close()"
   ]
  },
  {
   "cell_type": "code",
   "execution_count": 126,
   "metadata": {},
   "outputs": [
    {
     "name": "stdout",
     "output_type": "stream",
     "text": [
      "Graveiiiiiiiiii mais uma vez\n"
     ]
    }
   ],
   "source": [
    "arquivo2 =open(\"doc.txt\",\"r\")\n",
    "print(arquivo2.read())"
   ]
  },
  {
   "cell_type": "code",
   "execution_count": 128,
   "metadata": {
    "collapsed": true
   },
   "outputs": [],
   "source": [
    "arquivo2.close()"
   ]
  },
  {
   "cell_type": "code",
   "execution_count": 131,
   "metadata": {},
   "outputs": [
    {
     "name": "stdout",
     "output_type": "stream",
     "text": [
      "nome do arquivo: docX\n"
     ]
    }
   ],
   "source": [
    "nomeArquivo = input(\"nome do arquivo: \")"
   ]
  },
  {
   "cell_type": "code",
   "execution_count": 132,
   "metadata": {
    "collapsed": true
   },
   "outputs": [],
   "source": [
    "nomeArquivo = nomeArquivo + \".txt\"\n",
    "arquivo3 = open(nomeArquivo,\"w\")"
   ]
  },
  {
   "cell_type": "code",
   "execution_count": 133,
   "metadata": {},
   "outputs": [
    {
     "data": {
      "text/plain": [
       "19"
      ]
     },
     "execution_count": 133,
     "metadata": {},
     "output_type": "execute_result"
    }
   ],
   "source": [
    "arquivo3.write(\"novo arquivo criado\")"
   ]
  },
  {
   "cell_type": "code",
   "execution_count": 134,
   "metadata": {
    "collapsed": true
   },
   "outputs": [],
   "source": [
    "arquivo3.close()"
   ]
  },
  {
   "cell_type": "code",
   "execution_count": 137,
   "metadata": {},
   "outputs": [
    {
     "data": {
      "text/plain": [
       "0"
      ]
     },
     "execution_count": 137,
     "metadata": {},
     "output_type": "execute_result"
    }
   ],
   "source": [
    "arquivo3 = open(nomeArquivo,\"r\")\n",
    "arquivo3.seek(0,0)"
   ]
  },
  {
   "cell_type": "code",
   "execution_count": 138,
   "metadata": {},
   "outputs": [
    {
     "data": {
      "text/plain": [
       "'novo arquivo criado'"
      ]
     },
     "execution_count": 138,
     "metadata": {},
     "output_type": "execute_result"
    }
   ],
   "source": [
    "arquivo3.read()"
   ]
  },
  {
   "cell_type": "code",
   "execution_count": 139,
   "metadata": {
    "collapsed": true
   },
   "outputs": [],
   "source": [
    "arquivo3.close()"
   ]
  },
  {
   "cell_type": "code",
   "execution_count": 2,
   "metadata": {
    "collapsed": true
   },
   "outputs": [],
   "source": [
    "# banco de dados"
   ]
  },
  {
   "cell_type": "code",
   "execution_count": 3,
   "metadata": {
    "collapsed": true
   },
   "outputs": [],
   "source": [
    "import sqlite3"
   ]
  },
  {
   "cell_type": "code",
   "execution_count": 4,
   "metadata": {},
   "outputs": [],
   "source": [
    "con = sqlite3.connect('escola.db',timeout=1);"
   ]
  },
  {
   "cell_type": "code",
   "execution_count": 5,
   "metadata": {
    "collapsed": true
   },
   "outputs": [],
   "source": [
    "cur = con.cursor();"
   ]
  },
  {
   "cell_type": "code",
   "execution_count": 6,
   "metadata": {
    "collapsed": true
   },
   "outputs": [],
   "source": [
    "sql_create = 'create table cursor (id integer primary key, titulo varchar(100), categoria varchar(100))' "
   ]
  },
  {
   "cell_type": "code",
   "execution_count": 7,
   "metadata": {},
   "outputs": [
    {
     "ename": "OperationalError",
     "evalue": "table cursor already exists",
     "output_type": "error",
     "traceback": [
      "\u001b[0;31m---------------------------------------------------------------------------\u001b[0m",
      "\u001b[0;31mOperationalError\u001b[0m                          Traceback (most recent call last)",
      "\u001b[0;32m<ipython-input-7-eb519f57916a>\u001b[0m in \u001b[0;36m<module>\u001b[0;34m()\u001b[0m\n\u001b[0;32m----> 1\u001b[0;31m \u001b[0mcur\u001b[0m\u001b[0;34m.\u001b[0m\u001b[0mexecute\u001b[0m\u001b[0;34m(\u001b[0m\u001b[0msql_create\u001b[0m\u001b[0;34m)\u001b[0m\u001b[0;34m\u001b[0m\u001b[0m\n\u001b[0m",
      "\u001b[0;31mOperationalError\u001b[0m: table cursor already exists"
     ]
    }
   ],
   "source": [
    "cur.execute(sql_create)"
   ]
  },
  {
   "cell_type": "code",
   "execution_count": 8,
   "metadata": {},
   "outputs": [
    {
     "ename": "IntegrityError",
     "evalue": "UNIQUE constraint failed: cursor.id",
     "output_type": "error",
     "traceback": [
      "\u001b[0;31m---------------------------------------------------------------------------\u001b[0m",
      "\u001b[0;31mIntegrityError\u001b[0m                            Traceback (most recent call last)",
      "\u001b[0;32m<ipython-input-8-fe7516318e0a>\u001b[0m in \u001b[0;36m<module>\u001b[0;34m()\u001b[0m\n\u001b[1;32m      2\u001b[0m \u001b[0mrecset\u001b[0m \u001b[0;34m=\u001b[0m \u001b[0;34m[\u001b[0m\u001b[0;34m(\u001b[0m\u001b[0;36m1\u001b[0m\u001b[0;34m,\u001b[0m\u001b[0;34m'Ciencias de dados'\u001b[0m\u001b[0;34m,\u001b[0m\u001b[0;34m'Data Sc'\u001b[0m\u001b[0;34m)\u001b[0m\u001b[0;34m,\u001b[0m\u001b[0;34m(\u001b[0m\u001b[0;36m2\u001b[0m\u001b[0;34m,\u001b[0m\u001b[0;34m'Eng comp'\u001b[0m\u001b[0;34m,\u001b[0m\u001b[0;34m'Comp'\u001b[0m\u001b[0;34m)\u001b[0m\u001b[0;34m,\u001b[0m\u001b[0;34m(\u001b[0m\u001b[0;36m3\u001b[0m\u001b[0;34m,\u001b[0m\u001b[0;34m'Aa'\u001b[0m\u001b[0;34m,\u001b[0m\u001b[0;34m'c'\u001b[0m\u001b[0;34m)\u001b[0m\u001b[0;34m]\u001b[0m\u001b[0;34m\u001b[0m\u001b[0m\n\u001b[1;32m      3\u001b[0m \u001b[0;32mfor\u001b[0m \u001b[0mrec\u001b[0m \u001b[0;32min\u001b[0m \u001b[0mrecset\u001b[0m\u001b[0;34m:\u001b[0m\u001b[0;34m\u001b[0m\u001b[0m\n\u001b[0;32m----> 4\u001b[0;31m     \u001b[0mcur\u001b[0m\u001b[0;34m.\u001b[0m\u001b[0mexecute\u001b[0m\u001b[0;34m(\u001b[0m\u001b[0msql_insert\u001b[0m\u001b[0;34m,\u001b[0m\u001b[0mrec\u001b[0m\u001b[0;34m)\u001b[0m\u001b[0;34m;\u001b[0m\u001b[0;34m\u001b[0m\u001b[0m\n\u001b[0m\u001b[1;32m      5\u001b[0m \u001b[0mcon\u001b[0m\u001b[0;34m.\u001b[0m\u001b[0mcommit\u001b[0m\u001b[0;34m(\u001b[0m\u001b[0;34m)\u001b[0m\u001b[0;34m\u001b[0m\u001b[0m\n",
      "\u001b[0;31mIntegrityError\u001b[0m: UNIQUE constraint failed: cursor.id"
     ]
    }
   ],
   "source": [
    "sql_insert = 'insert into cursor values (?,?,?)'\n",
    "recset = [(1,'Ciencias de dados','Data Sc'),(2,'Eng comp','Comp'),(3,'Aa','c')]\n",
    "for rec in recset:\n",
    "    cur.execute(sql_insert,rec);\n",
    "con.commit()"
   ]
  },
  {
   "cell_type": "code",
   "execution_count": 9,
   "metadata": {},
   "outputs": [
    {
     "name": "stdout",
     "output_type": "stream",
     "text": [
      "id= 1, titulo= Ciencias de dados, Categoria= Data Sc\n",
      "id= 2, titulo= Eng comp, Categoria= Comp\n",
      "id= 3, titulo= Aa, Categoria= c\n"
     ]
    }
   ],
   "source": [
    "sql_select='select * from cursor';\n",
    "cur.execute(sql_select);\n",
    "dados = cur.fetchall()\n",
    "for linha in dados:\n",
    "    print('id= %d, titulo= %s, Categoria= %s'% linha)"
   ]
  },
  {
   "cell_type": "code",
   "execution_count": 10,
   "metadata": {},
   "outputs": [
    {
     "data": {
      "text/plain": [
       "<function Connection.close>"
      ]
     },
     "execution_count": 10,
     "metadata": {},
     "output_type": "execute_result"
    }
   ],
   "source": [
    "con.close"
   ]
  },
  {
   "cell_type": "code",
   "execution_count": 51,
   "metadata": {},
   "outputs": [],
   "source": [
    "import sqlite3\n",
    "import random\n",
    "import time\n",
    "import datetime\n",
    "import matplotlib.pyplot as plt\n",
    "%matplotlib notebook\n",
    "\n",
    "conn = sqlite3.connect('dsa.db', timeout =10000)\n",
    "c = conn.cursor();\n",
    "\n",
    "def criarTabela():\n",
    "    c.execute('CREATE TABLE IF NOT EXISTS produtos(id integer primary key autoincrement not null, date text, prod_name text, valor real)')\n",
    "\n",
    "def inserirDados():\n",
    "    c.execute(\"insert into produtos values (10,'2016-05-02 14:02:11','teclado',90)\")\n",
    "    conn.commit()\n",
    "    c.close()\n",
    "    conn.close()\n",
    "\n",
    "def insertVar():\n",
    "    new_date = datetime.datetime.now();\n",
    "    new_produto = 'Mouse';\n",
    "    new_valor = random.randrange(50,90)\n",
    "    c.execute(\"INSERT INTO produtos (date, prod_name, valor) VALUES (?,?,?)\",(new_date,new_produto,new_valor))\n",
    "    conn.commit();\n",
    "    \n",
    "    \n",
    "def leituraDados():\n",
    "    c.execute(\"select * from produtos\")\n",
    "    for linha in c.fetchall():\n",
    "        print(linha)\n",
    "\n",
    "def leituraDadosColuna(x):\n",
    "    c.execute(\"select * from produtos\")\n",
    "    for linha in c.fetchall():\n",
    "        print(linha[x])\n",
    "        \n",
    "def alterandoDados():\n",
    "    c.execute(\"UPDATE produtos set valor = 100.00 where valor > 54.00\")\n",
    "    conn.commit()\n",
    "    leituraDados()\n",
    "\n",
    "def excluindo():\n",
    "    c.execute(\"DELETE FROM produtos where valor < 99\")\n",
    "    conn.commit()\n",
    "    leituraDados()\n",
    "    \n",
    "def graficos():\n",
    "    c.execute(\"select id, valor from produtos\")\n",
    "    ids=[]\n",
    "    valores=[]\n",
    "    for linha in c.fetchall():\n",
    "        ids.append(linha[0])\n",
    "        valores.append(linha[1])\n",
    "    \n",
    "    plt.bar(ids,valores)\n",
    "    plt.show()\n",
    "    "
   ]
  },
  {
   "cell_type": "code",
   "execution_count": 36,
   "metadata": {},
   "outputs": [
    {
     "ename": "OperationalError",
     "evalue": "database is locked",
     "output_type": "error",
     "traceback": [
      "\u001b[0;31m---------------------------------------------------------------------------\u001b[0m",
      "\u001b[0;31mOperationalError\u001b[0m                          Traceback (most recent call last)",
      "\u001b[0;32m<ipython-input-36-d823e3f37244>\u001b[0m in \u001b[0;36m<module>\u001b[0;34m()\u001b[0m\n\u001b[1;32m      1\u001b[0m \u001b[0;32mfor\u001b[0m \u001b[0mi\u001b[0m \u001b[0;32min\u001b[0m \u001b[0mrange\u001b[0m\u001b[0;34m(\u001b[0m\u001b[0;36m10\u001b[0m\u001b[0;34m)\u001b[0m\u001b[0;34m:\u001b[0m\u001b[0;34m\u001b[0m\u001b[0m\n\u001b[0;32m----> 2\u001b[0;31m     \u001b[0minsertVar\u001b[0m\u001b[0;34m(\u001b[0m\u001b[0;34m)\u001b[0m\u001b[0;34m;\u001b[0m\u001b[0;34m\u001b[0m\u001b[0m\n\u001b[0m\u001b[1;32m      3\u001b[0m     \u001b[0mtime\u001b[0m\u001b[0;34m.\u001b[0m\u001b[0msleep\u001b[0m\u001b[0;34m(\u001b[0m\u001b[0;36m1\u001b[0m\u001b[0;34m)\u001b[0m\u001b[0;34m;\u001b[0m\u001b[0;34m\u001b[0m\u001b[0m\n",
      "\u001b[0;32m<ipython-input-35-d9e99ba23637>\u001b[0m in \u001b[0;36minsertVar\u001b[0;34m()\u001b[0m\n\u001b[1;32m     20\u001b[0m     \u001b[0mnew_produto\u001b[0m \u001b[0;34m=\u001b[0m \u001b[0;34m'Mouse'\u001b[0m\u001b[0;34m;\u001b[0m\u001b[0;34m\u001b[0m\u001b[0m\n\u001b[1;32m     21\u001b[0m     \u001b[0mnew_valor\u001b[0m \u001b[0;34m=\u001b[0m \u001b[0mrandom\u001b[0m\u001b[0;34m.\u001b[0m\u001b[0mrandrange\u001b[0m\u001b[0;34m(\u001b[0m\u001b[0;36m50\u001b[0m\u001b[0;34m,\u001b[0m\u001b[0;36m90\u001b[0m\u001b[0;34m)\u001b[0m\u001b[0;34m\u001b[0m\u001b[0m\n\u001b[0;32m---> 22\u001b[0;31m     \u001b[0mc\u001b[0m\u001b[0;34m.\u001b[0m\u001b[0mexecute\u001b[0m\u001b[0;34m(\u001b[0m\u001b[0;34m\"INSERT INTO produtos (date, prod_name, valor) VALUES (?,?,?)\"\u001b[0m\u001b[0;34m,\u001b[0m\u001b[0;34m(\u001b[0m\u001b[0mnew_date\u001b[0m\u001b[0;34m,\u001b[0m\u001b[0mnew_produto\u001b[0m\u001b[0;34m,\u001b[0m\u001b[0mnew_valor\u001b[0m\u001b[0;34m)\u001b[0m\u001b[0;34m)\u001b[0m\u001b[0;34m\u001b[0m\u001b[0m\n\u001b[0m\u001b[1;32m     23\u001b[0m     \u001b[0mconn\u001b[0m\u001b[0;34m.\u001b[0m\u001b[0mcommit\u001b[0m\u001b[0;34m(\u001b[0m\u001b[0;34m)\u001b[0m\u001b[0;34m;\u001b[0m\u001b[0;34m\u001b[0m\u001b[0m\n\u001b[1;32m     24\u001b[0m \u001b[0;34m\u001b[0m\u001b[0m\n",
      "\u001b[0;31mOperationalError\u001b[0m: database is locked"
     ]
    }
   ],
   "source": [
    "for i in range(10):\n",
    "    insertVar();\n",
    "    time.sleep(1);"
   ]
  },
  {
   "cell_type": "code",
   "execution_count": 41,
   "metadata": {},
   "outputs": [
    {
     "name": "stdout",
     "output_type": "stream",
     "text": [
      "(10, '2016-05-02 14:02:11', 'teclado', 100.0)\n",
      "(11, '2018-03-01 20:51:02.770019', 'Mouse', 100.0)\n",
      "(12, '2018-03-01 20:51:04.037022', 'Mouse', 100.0)\n",
      "(13, '2018-03-01 20:51:05.347797', 'Mouse', 100.0)\n",
      "(14, '2018-03-01 20:51:06.447818', 'Mouse', 100.0)\n",
      "(15, '2018-03-01 20:51:07.581100', 'Mouse', 100.0)\n",
      "(16, '2018-03-01 20:51:08.758806', 'Mouse', 54.0)\n",
      "(17, '2018-03-01 20:51:09.914362', 'Mouse', 50.0)\n",
      "(18, '2018-03-01 20:51:11.036599', 'Mouse', 100.0)\n",
      "(19, '2018-03-01 20:51:12.136530', 'Mouse', 100.0)\n",
      "(20, '2018-03-01 20:51:13.236573', 'Mouse', 100.0)\n",
      "(21, '2018-03-01 21:02:25.080829', 'Mouse', 100.0)\n",
      "(22, '2018-03-01 21:02:26.282352', 'Mouse', 100.0)\n",
      "(23, '2018-03-01 21:02:27.404728', 'Mouse', 53.0)\n",
      "(24, '2018-03-01 21:02:28.515821', 'Mouse', 53.0)\n",
      "(25, '2018-03-01 21:02:29.615941', 'Mouse', 100.0)\n",
      "(26, '2018-03-01 21:02:30.726991', 'Mouse', 100.0)\n",
      "(27, '2018-03-01 21:02:31.827110', 'Mouse', 100.0)\n",
      "(28, '2018-03-01 21:02:32.915948', 'Mouse', 100.0)\n",
      "(29, '2018-03-01 21:02:34.049271', 'Mouse', 100.0)\n",
      "(30, '2018-03-01 21:02:35.138322', 'Mouse', 51.0)\n",
      "(31, '2018-03-01 21:21:56.900860', 'Mouse', 100.0)\n",
      "(32, '2018-03-01 21:21:58.100676', 'Mouse', 51.0)\n",
      "(33, '2018-03-01 21:21:59.211825', 'Mouse', 100.0)\n",
      "(34, '2018-03-01 21:22:00.300718', 'Mouse', 51.0)\n",
      "(35, '2018-03-01 21:22:01.367427', 'Mouse', 100.0)\n",
      "(36, '2018-03-01 21:22:02.456336', 'Mouse', 100.0)\n",
      "(37, '2018-03-01 21:22:03.523042', 'Mouse', 100.0)\n",
      "(38, '2018-03-01 21:22:04.689744', 'Mouse', 100.0)\n",
      "(39, '2018-03-01 21:22:05.878595', 'Mouse', 100.0)\n",
      "(40, '2018-03-01 21:22:07.034173', 'Mouse', 100.0)\n"
     ]
    }
   ],
   "source": [
    "alterandoDados()"
   ]
  },
  {
   "cell_type": "code",
   "execution_count": 46,
   "metadata": {},
   "outputs": [
    {
     "name": "stdout",
     "output_type": "stream",
     "text": [
      "(10, '2016-05-02 14:02:11', 'teclado', 100.0)\n",
      "(11, '2018-03-01 20:51:02.770019', 'Mouse', 100.0)\n",
      "(12, '2018-03-01 20:51:04.037022', 'Mouse', 100.0)\n",
      "(13, '2018-03-01 20:51:05.347797', 'Mouse', 100.0)\n",
      "(14, '2018-03-01 20:51:06.447818', 'Mouse', 100.0)\n",
      "(15, '2018-03-01 20:51:07.581100', 'Mouse', 100.0)\n",
      "(18, '2018-03-01 20:51:11.036599', 'Mouse', 100.0)\n",
      "(19, '2018-03-01 20:51:12.136530', 'Mouse', 100.0)\n",
      "(20, '2018-03-01 20:51:13.236573', 'Mouse', 100.0)\n",
      "(21, '2018-03-01 21:02:25.080829', 'Mouse', 100.0)\n",
      "(22, '2018-03-01 21:02:26.282352', 'Mouse', 100.0)\n",
      "(25, '2018-03-01 21:02:29.615941', 'Mouse', 100.0)\n",
      "(26, '2018-03-01 21:02:30.726991', 'Mouse', 100.0)\n",
      "(27, '2018-03-01 21:02:31.827110', 'Mouse', 100.0)\n",
      "(28, '2018-03-01 21:02:32.915948', 'Mouse', 100.0)\n",
      "(29, '2018-03-01 21:02:34.049271', 'Mouse', 100.0)\n",
      "(31, '2018-03-01 21:21:56.900860', 'Mouse', 100.0)\n",
      "(33, '2018-03-01 21:21:59.211825', 'Mouse', 100.0)\n",
      "(35, '2018-03-01 21:22:01.367427', 'Mouse', 100.0)\n",
      "(36, '2018-03-01 21:22:02.456336', 'Mouse', 100.0)\n",
      "(37, '2018-03-01 21:22:03.523042', 'Mouse', 100.0)\n",
      "(38, '2018-03-01 21:22:04.689744', 'Mouse', 100.0)\n",
      "(39, '2018-03-01 21:22:05.878595', 'Mouse', 100.0)\n",
      "(40, '2018-03-01 21:22:07.034173', 'Mouse', 100.0)\n"
     ]
    }
   ],
   "source": [
    "excluindo()"
   ]
  },
  {
   "cell_type": "code",
   "execution_count": 52,
   "metadata": {},
   "outputs": [
    {
     "data": {
      "application/javascript": [
       "/* Put everything inside the global mpl namespace */\n",
       "window.mpl = {};\n",
       "\n",
       "\n",
       "mpl.get_websocket_type = function() {\n",
       "    if (typeof(WebSocket) !== 'undefined') {\n",
       "        return WebSocket;\n",
       "    } else if (typeof(MozWebSocket) !== 'undefined') {\n",
       "        return MozWebSocket;\n",
       "    } else {\n",
       "        alert('Your browser does not have WebSocket support.' +\n",
       "              'Please try Chrome, Safari or Firefox ≥ 6. ' +\n",
       "              'Firefox 4 and 5 are also supported but you ' +\n",
       "              'have to enable WebSockets in about:config.');\n",
       "    };\n",
       "}\n",
       "\n",
       "mpl.figure = function(figure_id, websocket, ondownload, parent_element) {\n",
       "    this.id = figure_id;\n",
       "\n",
       "    this.ws = websocket;\n",
       "\n",
       "    this.supports_binary = (this.ws.binaryType != undefined);\n",
       "\n",
       "    if (!this.supports_binary) {\n",
       "        var warnings = document.getElementById(\"mpl-warnings\");\n",
       "        if (warnings) {\n",
       "            warnings.style.display = 'block';\n",
       "            warnings.textContent = (\n",
       "                \"This browser does not support binary websocket messages. \" +\n",
       "                    \"Performance may be slow.\");\n",
       "        }\n",
       "    }\n",
       "\n",
       "    this.imageObj = new Image();\n",
       "\n",
       "    this.context = undefined;\n",
       "    this.message = undefined;\n",
       "    this.canvas = undefined;\n",
       "    this.rubberband_canvas = undefined;\n",
       "    this.rubberband_context = undefined;\n",
       "    this.format_dropdown = undefined;\n",
       "\n",
       "    this.image_mode = 'full';\n",
       "\n",
       "    this.root = $('<div/>');\n",
       "    this._root_extra_style(this.root)\n",
       "    this.root.attr('style', 'display: inline-block');\n",
       "\n",
       "    $(parent_element).append(this.root);\n",
       "\n",
       "    this._init_header(this);\n",
       "    this._init_canvas(this);\n",
       "    this._init_toolbar(this);\n",
       "\n",
       "    var fig = this;\n",
       "\n",
       "    this.waiting = false;\n",
       "\n",
       "    this.ws.onopen =  function () {\n",
       "            fig.send_message(\"supports_binary\", {value: fig.supports_binary});\n",
       "            fig.send_message(\"send_image_mode\", {});\n",
       "            if (mpl.ratio != 1) {\n",
       "                fig.send_message(\"set_dpi_ratio\", {'dpi_ratio': mpl.ratio});\n",
       "            }\n",
       "            fig.send_message(\"refresh\", {});\n",
       "        }\n",
       "\n",
       "    this.imageObj.onload = function() {\n",
       "            if (fig.image_mode == 'full') {\n",
       "                // Full images could contain transparency (where diff images\n",
       "                // almost always do), so we need to clear the canvas so that\n",
       "                // there is no ghosting.\n",
       "                fig.context.clearRect(0, 0, fig.canvas.width, fig.canvas.height);\n",
       "            }\n",
       "            fig.context.drawImage(fig.imageObj, 0, 0);\n",
       "        };\n",
       "\n",
       "    this.imageObj.onunload = function() {\n",
       "        fig.ws.close();\n",
       "    }\n",
       "\n",
       "    this.ws.onmessage = this._make_on_message_function(this);\n",
       "\n",
       "    this.ondownload = ondownload;\n",
       "}\n",
       "\n",
       "mpl.figure.prototype._init_header = function() {\n",
       "    var titlebar = $(\n",
       "        '<div class=\"ui-dialog-titlebar ui-widget-header ui-corner-all ' +\n",
       "        'ui-helper-clearfix\"/>');\n",
       "    var titletext = $(\n",
       "        '<div class=\"ui-dialog-title\" style=\"width: 100%; ' +\n",
       "        'text-align: center; padding: 3px;\"/>');\n",
       "    titlebar.append(titletext)\n",
       "    this.root.append(titlebar);\n",
       "    this.header = titletext[0];\n",
       "}\n",
       "\n",
       "\n",
       "\n",
       "mpl.figure.prototype._canvas_extra_style = function(canvas_div) {\n",
       "\n",
       "}\n",
       "\n",
       "\n",
       "mpl.figure.prototype._root_extra_style = function(canvas_div) {\n",
       "\n",
       "}\n",
       "\n",
       "mpl.figure.prototype._init_canvas = function() {\n",
       "    var fig = this;\n",
       "\n",
       "    var canvas_div = $('<div/>');\n",
       "\n",
       "    canvas_div.attr('style', 'position: relative; clear: both; outline: 0');\n",
       "\n",
       "    function canvas_keyboard_event(event) {\n",
       "        return fig.key_event(event, event['data']);\n",
       "    }\n",
       "\n",
       "    canvas_div.keydown('key_press', canvas_keyboard_event);\n",
       "    canvas_div.keyup('key_release', canvas_keyboard_event);\n",
       "    this.canvas_div = canvas_div\n",
       "    this._canvas_extra_style(canvas_div)\n",
       "    this.root.append(canvas_div);\n",
       "\n",
       "    var canvas = $('<canvas/>');\n",
       "    canvas.addClass('mpl-canvas');\n",
       "    canvas.attr('style', \"left: 0; top: 0; z-index: 0; outline: 0\")\n",
       "\n",
       "    this.canvas = canvas[0];\n",
       "    this.context = canvas[0].getContext(\"2d\");\n",
       "\n",
       "    var backingStore = this.context.backingStorePixelRatio ||\n",
       "\tthis.context.webkitBackingStorePixelRatio ||\n",
       "\tthis.context.mozBackingStorePixelRatio ||\n",
       "\tthis.context.msBackingStorePixelRatio ||\n",
       "\tthis.context.oBackingStorePixelRatio ||\n",
       "\tthis.context.backingStorePixelRatio || 1;\n",
       "\n",
       "    mpl.ratio = (window.devicePixelRatio || 1) / backingStore;\n",
       "\n",
       "    var rubberband = $('<canvas/>');\n",
       "    rubberband.attr('style', \"position: absolute; left: 0; top: 0; z-index: 1;\")\n",
       "\n",
       "    var pass_mouse_events = true;\n",
       "\n",
       "    canvas_div.resizable({\n",
       "        start: function(event, ui) {\n",
       "            pass_mouse_events = false;\n",
       "        },\n",
       "        resize: function(event, ui) {\n",
       "            fig.request_resize(ui.size.width, ui.size.height);\n",
       "        },\n",
       "        stop: function(event, ui) {\n",
       "            pass_mouse_events = true;\n",
       "            fig.request_resize(ui.size.width, ui.size.height);\n",
       "        },\n",
       "    });\n",
       "\n",
       "    function mouse_event_fn(event) {\n",
       "        if (pass_mouse_events)\n",
       "            return fig.mouse_event(event, event['data']);\n",
       "    }\n",
       "\n",
       "    rubberband.mousedown('button_press', mouse_event_fn);\n",
       "    rubberband.mouseup('button_release', mouse_event_fn);\n",
       "    // Throttle sequential mouse events to 1 every 20ms.\n",
       "    rubberband.mousemove('motion_notify', mouse_event_fn);\n",
       "\n",
       "    rubberband.mouseenter('figure_enter', mouse_event_fn);\n",
       "    rubberband.mouseleave('figure_leave', mouse_event_fn);\n",
       "\n",
       "    canvas_div.on(\"wheel\", function (event) {\n",
       "        event = event.originalEvent;\n",
       "        event['data'] = 'scroll'\n",
       "        if (event.deltaY < 0) {\n",
       "            event.step = 1;\n",
       "        } else {\n",
       "            event.step = -1;\n",
       "        }\n",
       "        mouse_event_fn(event);\n",
       "    });\n",
       "\n",
       "    canvas_div.append(canvas);\n",
       "    canvas_div.append(rubberband);\n",
       "\n",
       "    this.rubberband = rubberband;\n",
       "    this.rubberband_canvas = rubberband[0];\n",
       "    this.rubberband_context = rubberband[0].getContext(\"2d\");\n",
       "    this.rubberband_context.strokeStyle = \"#000000\";\n",
       "\n",
       "    this._resize_canvas = function(width, height) {\n",
       "        // Keep the size of the canvas, canvas container, and rubber band\n",
       "        // canvas in synch.\n",
       "        canvas_div.css('width', width)\n",
       "        canvas_div.css('height', height)\n",
       "\n",
       "        canvas.attr('width', width * mpl.ratio);\n",
       "        canvas.attr('height', height * mpl.ratio);\n",
       "        canvas.attr('style', 'width: ' + width + 'px; height: ' + height + 'px;');\n",
       "\n",
       "        rubberband.attr('width', width);\n",
       "        rubberband.attr('height', height);\n",
       "    }\n",
       "\n",
       "    // Set the figure to an initial 600x600px, this will subsequently be updated\n",
       "    // upon first draw.\n",
       "    this._resize_canvas(600, 600);\n",
       "\n",
       "    // Disable right mouse context menu.\n",
       "    $(this.rubberband_canvas).bind(\"contextmenu\",function(e){\n",
       "        return false;\n",
       "    });\n",
       "\n",
       "    function set_focus () {\n",
       "        canvas.focus();\n",
       "        canvas_div.focus();\n",
       "    }\n",
       "\n",
       "    window.setTimeout(set_focus, 100);\n",
       "}\n",
       "\n",
       "mpl.figure.prototype._init_toolbar = function() {\n",
       "    var fig = this;\n",
       "\n",
       "    var nav_element = $('<div/>')\n",
       "    nav_element.attr('style', 'width: 100%');\n",
       "    this.root.append(nav_element);\n",
       "\n",
       "    // Define a callback function for later on.\n",
       "    function toolbar_event(event) {\n",
       "        return fig.toolbar_button_onclick(event['data']);\n",
       "    }\n",
       "    function toolbar_mouse_event(event) {\n",
       "        return fig.toolbar_button_onmouseover(event['data']);\n",
       "    }\n",
       "\n",
       "    for(var toolbar_ind in mpl.toolbar_items) {\n",
       "        var name = mpl.toolbar_items[toolbar_ind][0];\n",
       "        var tooltip = mpl.toolbar_items[toolbar_ind][1];\n",
       "        var image = mpl.toolbar_items[toolbar_ind][2];\n",
       "        var method_name = mpl.toolbar_items[toolbar_ind][3];\n",
       "\n",
       "        if (!name) {\n",
       "            // put a spacer in here.\n",
       "            continue;\n",
       "        }\n",
       "        var button = $('<button/>');\n",
       "        button.addClass('ui-button ui-widget ui-state-default ui-corner-all ' +\n",
       "                        'ui-button-icon-only');\n",
       "        button.attr('role', 'button');\n",
       "        button.attr('aria-disabled', 'false');\n",
       "        button.click(method_name, toolbar_event);\n",
       "        button.mouseover(tooltip, toolbar_mouse_event);\n",
       "\n",
       "        var icon_img = $('<span/>');\n",
       "        icon_img.addClass('ui-button-icon-primary ui-icon');\n",
       "        icon_img.addClass(image);\n",
       "        icon_img.addClass('ui-corner-all');\n",
       "\n",
       "        var tooltip_span = $('<span/>');\n",
       "        tooltip_span.addClass('ui-button-text');\n",
       "        tooltip_span.html(tooltip);\n",
       "\n",
       "        button.append(icon_img);\n",
       "        button.append(tooltip_span);\n",
       "\n",
       "        nav_element.append(button);\n",
       "    }\n",
       "\n",
       "    var fmt_picker_span = $('<span/>');\n",
       "\n",
       "    var fmt_picker = $('<select/>');\n",
       "    fmt_picker.addClass('mpl-toolbar-option ui-widget ui-widget-content');\n",
       "    fmt_picker_span.append(fmt_picker);\n",
       "    nav_element.append(fmt_picker_span);\n",
       "    this.format_dropdown = fmt_picker[0];\n",
       "\n",
       "    for (var ind in mpl.extensions) {\n",
       "        var fmt = mpl.extensions[ind];\n",
       "        var option = $(\n",
       "            '<option/>', {selected: fmt === mpl.default_extension}).html(fmt);\n",
       "        fmt_picker.append(option)\n",
       "    }\n",
       "\n",
       "    // Add hover states to the ui-buttons\n",
       "    $( \".ui-button\" ).hover(\n",
       "        function() { $(this).addClass(\"ui-state-hover\");},\n",
       "        function() { $(this).removeClass(\"ui-state-hover\");}\n",
       "    );\n",
       "\n",
       "    var status_bar = $('<span class=\"mpl-message\"/>');\n",
       "    nav_element.append(status_bar);\n",
       "    this.message = status_bar[0];\n",
       "}\n",
       "\n",
       "mpl.figure.prototype.request_resize = function(x_pixels, y_pixels) {\n",
       "    // Request matplotlib to resize the figure. Matplotlib will then trigger a resize in the client,\n",
       "    // which will in turn request a refresh of the image.\n",
       "    this.send_message('resize', {'width': x_pixels, 'height': y_pixels});\n",
       "}\n",
       "\n",
       "mpl.figure.prototype.send_message = function(type, properties) {\n",
       "    properties['type'] = type;\n",
       "    properties['figure_id'] = this.id;\n",
       "    this.ws.send(JSON.stringify(properties));\n",
       "}\n",
       "\n",
       "mpl.figure.prototype.send_draw_message = function() {\n",
       "    if (!this.waiting) {\n",
       "        this.waiting = true;\n",
       "        this.ws.send(JSON.stringify({type: \"draw\", figure_id: this.id}));\n",
       "    }\n",
       "}\n",
       "\n",
       "\n",
       "mpl.figure.prototype.handle_save = function(fig, msg) {\n",
       "    var format_dropdown = fig.format_dropdown;\n",
       "    var format = format_dropdown.options[format_dropdown.selectedIndex].value;\n",
       "    fig.ondownload(fig, format);\n",
       "}\n",
       "\n",
       "\n",
       "mpl.figure.prototype.handle_resize = function(fig, msg) {\n",
       "    var size = msg['size'];\n",
       "    if (size[0] != fig.canvas.width || size[1] != fig.canvas.height) {\n",
       "        fig._resize_canvas(size[0], size[1]);\n",
       "        fig.send_message(\"refresh\", {});\n",
       "    };\n",
       "}\n",
       "\n",
       "mpl.figure.prototype.handle_rubberband = function(fig, msg) {\n",
       "    var x0 = msg['x0'] / mpl.ratio;\n",
       "    var y0 = (fig.canvas.height - msg['y0']) / mpl.ratio;\n",
       "    var x1 = msg['x1'] / mpl.ratio;\n",
       "    var y1 = (fig.canvas.height - msg['y1']) / mpl.ratio;\n",
       "    x0 = Math.floor(x0) + 0.5;\n",
       "    y0 = Math.floor(y0) + 0.5;\n",
       "    x1 = Math.floor(x1) + 0.5;\n",
       "    y1 = Math.floor(y1) + 0.5;\n",
       "    var min_x = Math.min(x0, x1);\n",
       "    var min_y = Math.min(y0, y1);\n",
       "    var width = Math.abs(x1 - x0);\n",
       "    var height = Math.abs(y1 - y0);\n",
       "\n",
       "    fig.rubberband_context.clearRect(\n",
       "        0, 0, fig.canvas.width, fig.canvas.height);\n",
       "\n",
       "    fig.rubberband_context.strokeRect(min_x, min_y, width, height);\n",
       "}\n",
       "\n",
       "mpl.figure.prototype.handle_figure_label = function(fig, msg) {\n",
       "    // Updates the figure title.\n",
       "    fig.header.textContent = msg['label'];\n",
       "}\n",
       "\n",
       "mpl.figure.prototype.handle_cursor = function(fig, msg) {\n",
       "    var cursor = msg['cursor'];\n",
       "    switch(cursor)\n",
       "    {\n",
       "    case 0:\n",
       "        cursor = 'pointer';\n",
       "        break;\n",
       "    case 1:\n",
       "        cursor = 'default';\n",
       "        break;\n",
       "    case 2:\n",
       "        cursor = 'crosshair';\n",
       "        break;\n",
       "    case 3:\n",
       "        cursor = 'move';\n",
       "        break;\n",
       "    }\n",
       "    fig.rubberband_canvas.style.cursor = cursor;\n",
       "}\n",
       "\n",
       "mpl.figure.prototype.handle_message = function(fig, msg) {\n",
       "    fig.message.textContent = msg['message'];\n",
       "}\n",
       "\n",
       "mpl.figure.prototype.handle_draw = function(fig, msg) {\n",
       "    // Request the server to send over a new figure.\n",
       "    fig.send_draw_message();\n",
       "}\n",
       "\n",
       "mpl.figure.prototype.handle_image_mode = function(fig, msg) {\n",
       "    fig.image_mode = msg['mode'];\n",
       "}\n",
       "\n",
       "mpl.figure.prototype.updated_canvas_event = function() {\n",
       "    // Called whenever the canvas gets updated.\n",
       "    this.send_message(\"ack\", {});\n",
       "}\n",
       "\n",
       "// A function to construct a web socket function for onmessage handling.\n",
       "// Called in the figure constructor.\n",
       "mpl.figure.prototype._make_on_message_function = function(fig) {\n",
       "    return function socket_on_message(evt) {\n",
       "        if (evt.data instanceof Blob) {\n",
       "            /* FIXME: We get \"Resource interpreted as Image but\n",
       "             * transferred with MIME type text/plain:\" errors on\n",
       "             * Chrome.  But how to set the MIME type?  It doesn't seem\n",
       "             * to be part of the websocket stream */\n",
       "            evt.data.type = \"image/png\";\n",
       "\n",
       "            /* Free the memory for the previous frames */\n",
       "            if (fig.imageObj.src) {\n",
       "                (window.URL || window.webkitURL).revokeObjectURL(\n",
       "                    fig.imageObj.src);\n",
       "            }\n",
       "\n",
       "            fig.imageObj.src = (window.URL || window.webkitURL).createObjectURL(\n",
       "                evt.data);\n",
       "            fig.updated_canvas_event();\n",
       "            fig.waiting = false;\n",
       "            return;\n",
       "        }\n",
       "        else if (typeof evt.data === 'string' && evt.data.slice(0, 21) == \"data:image/png;base64\") {\n",
       "            fig.imageObj.src = evt.data;\n",
       "            fig.updated_canvas_event();\n",
       "            fig.waiting = false;\n",
       "            return;\n",
       "        }\n",
       "\n",
       "        var msg = JSON.parse(evt.data);\n",
       "        var msg_type = msg['type'];\n",
       "\n",
       "        // Call the  \"handle_{type}\" callback, which takes\n",
       "        // the figure and JSON message as its only arguments.\n",
       "        try {\n",
       "            var callback = fig[\"handle_\" + msg_type];\n",
       "        } catch (e) {\n",
       "            console.log(\"No handler for the '\" + msg_type + \"' message type: \", msg);\n",
       "            return;\n",
       "        }\n",
       "\n",
       "        if (callback) {\n",
       "            try {\n",
       "                // console.log(\"Handling '\" + msg_type + \"' message: \", msg);\n",
       "                callback(fig, msg);\n",
       "            } catch (e) {\n",
       "                console.log(\"Exception inside the 'handler_\" + msg_type + \"' callback:\", e, e.stack, msg);\n",
       "            }\n",
       "        }\n",
       "    };\n",
       "}\n",
       "\n",
       "// from http://stackoverflow.com/questions/1114465/getting-mouse-location-in-canvas\n",
       "mpl.findpos = function(e) {\n",
       "    //this section is from http://www.quirksmode.org/js/events_properties.html\n",
       "    var targ;\n",
       "    if (!e)\n",
       "        e = window.event;\n",
       "    if (e.target)\n",
       "        targ = e.target;\n",
       "    else if (e.srcElement)\n",
       "        targ = e.srcElement;\n",
       "    if (targ.nodeType == 3) // defeat Safari bug\n",
       "        targ = targ.parentNode;\n",
       "\n",
       "    // jQuery normalizes the pageX and pageY\n",
       "    // pageX,Y are the mouse positions relative to the document\n",
       "    // offset() returns the position of the element relative to the document\n",
       "    var x = e.pageX - $(targ).offset().left;\n",
       "    var y = e.pageY - $(targ).offset().top;\n",
       "\n",
       "    return {\"x\": x, \"y\": y};\n",
       "};\n",
       "\n",
       "/*\n",
       " * return a copy of an object with only non-object keys\n",
       " * we need this to avoid circular references\n",
       " * http://stackoverflow.com/a/24161582/3208463\n",
       " */\n",
       "function simpleKeys (original) {\n",
       "  return Object.keys(original).reduce(function (obj, key) {\n",
       "    if (typeof original[key] !== 'object')\n",
       "        obj[key] = original[key]\n",
       "    return obj;\n",
       "  }, {});\n",
       "}\n",
       "\n",
       "mpl.figure.prototype.mouse_event = function(event, name) {\n",
       "    var canvas_pos = mpl.findpos(event)\n",
       "\n",
       "    if (name === 'button_press')\n",
       "    {\n",
       "        this.canvas.focus();\n",
       "        this.canvas_div.focus();\n",
       "    }\n",
       "\n",
       "    var x = canvas_pos.x * mpl.ratio;\n",
       "    var y = canvas_pos.y * mpl.ratio;\n",
       "\n",
       "    this.send_message(name, {x: x, y: y, button: event.button,\n",
       "                             step: event.step,\n",
       "                             guiEvent: simpleKeys(event)});\n",
       "\n",
       "    /* This prevents the web browser from automatically changing to\n",
       "     * the text insertion cursor when the button is pressed.  We want\n",
       "     * to control all of the cursor setting manually through the\n",
       "     * 'cursor' event from matplotlib */\n",
       "    event.preventDefault();\n",
       "    return false;\n",
       "}\n",
       "\n",
       "mpl.figure.prototype._key_event_extra = function(event, name) {\n",
       "    // Handle any extra behaviour associated with a key event\n",
       "}\n",
       "\n",
       "mpl.figure.prototype.key_event = function(event, name) {\n",
       "\n",
       "    // Prevent repeat events\n",
       "    if (name == 'key_press')\n",
       "    {\n",
       "        if (event.which === this._key)\n",
       "            return;\n",
       "        else\n",
       "            this._key = event.which;\n",
       "    }\n",
       "    if (name == 'key_release')\n",
       "        this._key = null;\n",
       "\n",
       "    var value = '';\n",
       "    if (event.ctrlKey && event.which != 17)\n",
       "        value += \"ctrl+\";\n",
       "    if (event.altKey && event.which != 18)\n",
       "        value += \"alt+\";\n",
       "    if (event.shiftKey && event.which != 16)\n",
       "        value += \"shift+\";\n",
       "\n",
       "    value += 'k';\n",
       "    value += event.which.toString();\n",
       "\n",
       "    this._key_event_extra(event, name);\n",
       "\n",
       "    this.send_message(name, {key: value,\n",
       "                             guiEvent: simpleKeys(event)});\n",
       "    return false;\n",
       "}\n",
       "\n",
       "mpl.figure.prototype.toolbar_button_onclick = function(name) {\n",
       "    if (name == 'download') {\n",
       "        this.handle_save(this, null);\n",
       "    } else {\n",
       "        this.send_message(\"toolbar_button\", {name: name});\n",
       "    }\n",
       "};\n",
       "\n",
       "mpl.figure.prototype.toolbar_button_onmouseover = function(tooltip) {\n",
       "    this.message.textContent = tooltip;\n",
       "};\n",
       "mpl.toolbar_items = [[\"Home\", \"Reset original view\", \"fa fa-home icon-home\", \"home\"], [\"Back\", \"Back to  previous view\", \"fa fa-arrow-left icon-arrow-left\", \"back\"], [\"Forward\", \"Forward to next view\", \"fa fa-arrow-right icon-arrow-right\", \"forward\"], [\"\", \"\", \"\", \"\"], [\"Pan\", \"Pan axes with left mouse, zoom with right\", \"fa fa-arrows icon-move\", \"pan\"], [\"Zoom\", \"Zoom to rectangle\", \"fa fa-square-o icon-check-empty\", \"zoom\"], [\"\", \"\", \"\", \"\"], [\"Download\", \"Download plot\", \"fa fa-floppy-o icon-save\", \"download\"]];\n",
       "\n",
       "mpl.extensions = [\"eps\", \"jpeg\", \"pdf\", \"png\", \"ps\", \"raw\", \"svg\", \"tif\"];\n",
       "\n",
       "mpl.default_extension = \"png\";var comm_websocket_adapter = function(comm) {\n",
       "    // Create a \"websocket\"-like object which calls the given IPython comm\n",
       "    // object with the appropriate methods. Currently this is a non binary\n",
       "    // socket, so there is still some room for performance tuning.\n",
       "    var ws = {};\n",
       "\n",
       "    ws.close = function() {\n",
       "        comm.close()\n",
       "    };\n",
       "    ws.send = function(m) {\n",
       "        //console.log('sending', m);\n",
       "        comm.send(m);\n",
       "    };\n",
       "    // Register the callback with on_msg.\n",
       "    comm.on_msg(function(msg) {\n",
       "        //console.log('receiving', msg['content']['data'], msg);\n",
       "        // Pass the mpl event to the overriden (by mpl) onmessage function.\n",
       "        ws.onmessage(msg['content']['data'])\n",
       "    });\n",
       "    return ws;\n",
       "}\n",
       "\n",
       "mpl.mpl_figure_comm = function(comm, msg) {\n",
       "    // This is the function which gets called when the mpl process\n",
       "    // starts-up an IPython Comm through the \"matplotlib\" channel.\n",
       "\n",
       "    var id = msg.content.data.id;\n",
       "    // Get hold of the div created by the display call when the Comm\n",
       "    // socket was opened in Python.\n",
       "    var element = $(\"#\" + id);\n",
       "    var ws_proxy = comm_websocket_adapter(comm)\n",
       "\n",
       "    function ondownload(figure, format) {\n",
       "        window.open(figure.imageObj.src);\n",
       "    }\n",
       "\n",
       "    var fig = new mpl.figure(id, ws_proxy,\n",
       "                           ondownload,\n",
       "                           element.get(0));\n",
       "\n",
       "    // Call onopen now - mpl needs it, as it is assuming we've passed it a real\n",
       "    // web socket which is closed, not our websocket->open comm proxy.\n",
       "    ws_proxy.onopen();\n",
       "\n",
       "    fig.parent_element = element.get(0);\n",
       "    fig.cell_info = mpl.find_output_cell(\"<div id='\" + id + \"'></div>\");\n",
       "    if (!fig.cell_info) {\n",
       "        console.error(\"Failed to find cell for figure\", id, fig);\n",
       "        return;\n",
       "    }\n",
       "\n",
       "    var output_index = fig.cell_info[2]\n",
       "    var cell = fig.cell_info[0];\n",
       "\n",
       "};\n",
       "\n",
       "mpl.figure.prototype.handle_close = function(fig, msg) {\n",
       "    var width = fig.canvas.width/mpl.ratio\n",
       "    fig.root.unbind('remove')\n",
       "\n",
       "    // Update the output cell to use the data from the current canvas.\n",
       "    fig.push_to_output();\n",
       "    var dataURL = fig.canvas.toDataURL();\n",
       "    // Re-enable the keyboard manager in IPython - without this line, in FF,\n",
       "    // the notebook keyboard shortcuts fail.\n",
       "    IPython.keyboard_manager.enable()\n",
       "    $(fig.parent_element).html('<img src=\"' + dataURL + '\" width=\"' + width + '\">');\n",
       "    fig.close_ws(fig, msg);\n",
       "}\n",
       "\n",
       "mpl.figure.prototype.close_ws = function(fig, msg){\n",
       "    fig.send_message('closing', msg);\n",
       "    // fig.ws.close()\n",
       "}\n",
       "\n",
       "mpl.figure.prototype.push_to_output = function(remove_interactive) {\n",
       "    // Turn the data on the canvas into data in the output cell.\n",
       "    var width = this.canvas.width/mpl.ratio\n",
       "    var dataURL = this.canvas.toDataURL();\n",
       "    this.cell_info[1]['text/html'] = '<img src=\"' + dataURL + '\" width=\"' + width + '\">';\n",
       "}\n",
       "\n",
       "mpl.figure.prototype.updated_canvas_event = function() {\n",
       "    // Tell IPython that the notebook contents must change.\n",
       "    IPython.notebook.set_dirty(true);\n",
       "    this.send_message(\"ack\", {});\n",
       "    var fig = this;\n",
       "    // Wait a second, then push the new image to the DOM so\n",
       "    // that it is saved nicely (might be nice to debounce this).\n",
       "    setTimeout(function () { fig.push_to_output() }, 1000);\n",
       "}\n",
       "\n",
       "mpl.figure.prototype._init_toolbar = function() {\n",
       "    var fig = this;\n",
       "\n",
       "    var nav_element = $('<div/>')\n",
       "    nav_element.attr('style', 'width: 100%');\n",
       "    this.root.append(nav_element);\n",
       "\n",
       "    // Define a callback function for later on.\n",
       "    function toolbar_event(event) {\n",
       "        return fig.toolbar_button_onclick(event['data']);\n",
       "    }\n",
       "    function toolbar_mouse_event(event) {\n",
       "        return fig.toolbar_button_onmouseover(event['data']);\n",
       "    }\n",
       "\n",
       "    for(var toolbar_ind in mpl.toolbar_items){\n",
       "        var name = mpl.toolbar_items[toolbar_ind][0];\n",
       "        var tooltip = mpl.toolbar_items[toolbar_ind][1];\n",
       "        var image = mpl.toolbar_items[toolbar_ind][2];\n",
       "        var method_name = mpl.toolbar_items[toolbar_ind][3];\n",
       "\n",
       "        if (!name) { continue; };\n",
       "\n",
       "        var button = $('<button class=\"btn btn-default\" href=\"#\" title=\"' + name + '\"><i class=\"fa ' + image + ' fa-lg\"></i></button>');\n",
       "        button.click(method_name, toolbar_event);\n",
       "        button.mouseover(tooltip, toolbar_mouse_event);\n",
       "        nav_element.append(button);\n",
       "    }\n",
       "\n",
       "    // Add the status bar.\n",
       "    var status_bar = $('<span class=\"mpl-message\" style=\"text-align:right; float: right;\"/>');\n",
       "    nav_element.append(status_bar);\n",
       "    this.message = status_bar[0];\n",
       "\n",
       "    // Add the close button to the window.\n",
       "    var buttongrp = $('<div class=\"btn-group inline pull-right\"></div>');\n",
       "    var button = $('<button class=\"btn btn-mini btn-primary\" href=\"#\" title=\"Stop Interaction\"><i class=\"fa fa-power-off icon-remove icon-large\"></i></button>');\n",
       "    button.click(function (evt) { fig.handle_close(fig, {}); } );\n",
       "    button.mouseover('Stop Interaction', toolbar_mouse_event);\n",
       "    buttongrp.append(button);\n",
       "    var titlebar = this.root.find($('.ui-dialog-titlebar'));\n",
       "    titlebar.prepend(buttongrp);\n",
       "}\n",
       "\n",
       "mpl.figure.prototype._root_extra_style = function(el){\n",
       "    var fig = this\n",
       "    el.on(\"remove\", function(){\n",
       "\tfig.close_ws(fig, {});\n",
       "    });\n",
       "}\n",
       "\n",
       "mpl.figure.prototype._canvas_extra_style = function(el){\n",
       "    // this is important to make the div 'focusable\n",
       "    el.attr('tabindex', 0)\n",
       "    // reach out to IPython and tell the keyboard manager to turn it's self\n",
       "    // off when our div gets focus\n",
       "\n",
       "    // location in version 3\n",
       "    if (IPython.notebook.keyboard_manager) {\n",
       "        IPython.notebook.keyboard_manager.register_events(el);\n",
       "    }\n",
       "    else {\n",
       "        // location in version 2\n",
       "        IPython.keyboard_manager.register_events(el);\n",
       "    }\n",
       "\n",
       "}\n",
       "\n",
       "mpl.figure.prototype._key_event_extra = function(event, name) {\n",
       "    var manager = IPython.notebook.keyboard_manager;\n",
       "    if (!manager)\n",
       "        manager = IPython.keyboard_manager;\n",
       "\n",
       "    // Check for shift+enter\n",
       "    if (event.shiftKey && event.which == 13) {\n",
       "        this.canvas_div.blur();\n",
       "        event.shiftKey = false;\n",
       "        // Send a \"J\" for go to next cell\n",
       "        event.which = 74;\n",
       "        event.keyCode = 74;\n",
       "        manager.command_mode();\n",
       "        manager.handle_keydown(event);\n",
       "    }\n",
       "}\n",
       "\n",
       "mpl.figure.prototype.handle_save = function(fig, msg) {\n",
       "    fig.ondownload(fig, null);\n",
       "}\n",
       "\n",
       "\n",
       "mpl.find_output_cell = function(html_output) {\n",
       "    // Return the cell and output element which can be found *uniquely* in the notebook.\n",
       "    // Note - this is a bit hacky, but it is done because the \"notebook_saving.Notebook\"\n",
       "    // IPython event is triggered only after the cells have been serialised, which for\n",
       "    // our purposes (turning an active figure into a static one), is too late.\n",
       "    var cells = IPython.notebook.get_cells();\n",
       "    var ncells = cells.length;\n",
       "    for (var i=0; i<ncells; i++) {\n",
       "        var cell = cells[i];\n",
       "        if (cell.cell_type === 'code'){\n",
       "            for (var j=0; j<cell.output_area.outputs.length; j++) {\n",
       "                var data = cell.output_area.outputs[j];\n",
       "                if (data.data) {\n",
       "                    // IPython >= 3 moved mimebundle to data attribute of output\n",
       "                    data = data.data;\n",
       "                }\n",
       "                if (data['text/html'] == html_output) {\n",
       "                    return [cell, data, j];\n",
       "                }\n",
       "            }\n",
       "        }\n",
       "    }\n",
       "}\n",
       "\n",
       "// Register the function which deals with the matplotlib target/channel.\n",
       "// The kernel may be null if the page has been refreshed.\n",
       "if (IPython.notebook.kernel != null) {\n",
       "    IPython.notebook.kernel.comm_manager.register_target('matplotlib', mpl.mpl_figure_comm);\n",
       "}\n"
      ],
      "text/plain": [
       "<IPython.core.display.Javascript object>"
      ]
     },
     "metadata": {},
     "output_type": "display_data"
    },
    {
     "data": {
      "text/html": [
       "<img src=\"data:image/png;base64,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\" width=\"640\">"
      ],
      "text/plain": [
       "<IPython.core.display.HTML object>"
      ]
     },
     "metadata": {},
     "output_type": "display_data"
    }
   ],
   "source": [
    "graficos()"
   ]
  },
  {
   "cell_type": "code",
   "execution_count": null,
   "metadata": {
    "collapsed": true
   },
   "outputs": [],
   "source": []
  }
 ],
 "metadata": {
  "kernelspec": {
   "display_name": "Python 3",
   "language": "python",
   "name": "python3"
  },
  "language_info": {
   "codemirror_mode": {
    "name": "ipython",
    "version": 3
   },
   "file_extension": ".py",
   "mimetype": "text/x-python",
   "name": "python",
   "nbconvert_exporter": "python",
   "pygments_lexer": "ipython3",
   "version": "3.6.3"
  }
 },
 "nbformat": 4,
 "nbformat_minor": 2
}
