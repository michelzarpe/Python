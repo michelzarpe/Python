{
 "cells": [
  {
   "cell_type": "code",
   "execution_count": 2,
   "metadata": {},
   "outputs": [
    {
     "name": "stdout",
     "output_type": "stream",
     "text": [
      "['cadastrodb', 'local']\n",
      "['mycollection', 'posts']\n"
     ]
    }
   ],
   "source": [
    "##Captura de haschTag do Tiwwiter\n",
    "import pymongo\n",
    "cliente_con=pymongo.MongoClient() ##conexao padrao\n",
    "print(cliente_con.database_names())\n",
    "db = cliente_con.cadastrodb\n",
    "##db.create_collection(\"mycollection\")\n",
    "print(db.collection_names())"
   ]
  },
  {
   "cell_type": "code",
   "execution_count": 8,
   "metadata": {
    "collapsed": true
   },
   "outputs": [],
   "source": []
  },
  {
   "cell_type": "code",
   "execution_count": null,
   "metadata": {
    "collapsed": true
   },
   "outputs": [],
   "source": []
  }
 ],
 "metadata": {
  "kernelspec": {
   "display_name": "Python 3",
   "language": "python",
   "name": "python3"
  }
 },
 "nbformat": 4,
 "nbformat_minor": 2
}
